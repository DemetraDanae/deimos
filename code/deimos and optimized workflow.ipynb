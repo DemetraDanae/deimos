{
 "cells": [
  {
   "cell_type": "markdown",
   "metadata": {},
   "source": [
    "## Dependencies"
   ]
  },
  {
   "cell_type": "code",
   "execution_count": 1,
   "metadata": {},
   "outputs": [],
   "source": [
    "import time\n",
    "start = time.time()\n",
    "start_CPU = time.process_time()"
   ]
  },
  {
   "cell_type": "code",
   "execution_count": 2,
   "metadata": {},
   "outputs": [],
   "source": [
    "import pandas as pd\n",
    "import numpy as np\n",
    "import statistics as st\n",
    "from deimosFunction import deimos\n",
    "from Kennard_Stone import kenStone\n",
    "from core_function import deimos_core\n",
    "from deimos_test import deimos_1D_test\n",
    "from clustering_function import clust\n",
    "from sklearn.linear_model import LinearRegression\n",
    "from sklearn.linear_model import LassoCV\n",
    "from sklearn.metrics import mean_squared_error\n",
    "from math import sqrt\n",
    "from validation import q2ext\n",
    "import multiprocessing as mp\n",
    "import matplotlib.pyplot as plt\n",
    "\n",
    "#!pip install mip\n",
    "#from mip import Model, xsum, minimize, BINARY"
   ]
  },
  {
   "cell_type": "code",
   "execution_count": 3,
   "metadata": {},
   "outputs": [
    {
     "name": "stdout",
     "output_type": "stream",
     "text": [
      "Number of processors:  4\n"
     ]
    }
   ],
   "source": [
    "print(\"Number of processors: \", mp.cpu_count())"
   ]
  },
  {
   "cell_type": "markdown",
   "metadata": {},
   "source": [
    "## Import dataset"
   ]
  },
  {
   "cell_type": "code",
   "execution_count": 4,
   "metadata": {},
   "outputs": [],
   "source": [
    "data_file = \"C:/Users/Dimitra/data.csv\"\n",
    "data = pd.read_csv(data_file, header=0, sep=\";\", index_col=0)\n",
    "\n",
    "X = data.iloc[:, 1:len(data.columns)]\n",
    "y = data.iloc[:, 0]\n",
    "\n",
    "# Scaling\n",
    "X_scaled = (X - X.min()) / (X.max() - X.min())\n",
    "y_scaled = (y - y.min()) / (y.max() - y.min())\n",
    "\n",
    "# Splitting into train-test\n",
    "#from sklearn.model_selection import train_test_split # in case of random splitting\n",
    "#X_train,X_test,y_train,y_test=train_test_split(X_scaled, y_scaled, train_size=0.66, random_state=8867453315) #Random\n",
    "\n",
    "# Kennard-Stone\n",
    "X_train, X_test, y_train, y_test = kenStone(X_scaled, y_scaled, train_ratio=0.66)\n",
    "\n",
    "samples_train = y_train.count()  # number of train samples\n",
    "samples_test = y_test.count() # number of test samples\n",
    "features = len(X_train.columns)"
   ]
  },
  {
   "cell_type": "markdown",
   "metadata": {},
   "source": [
    "## Simple linear regression for one region"
   ]
  },
  {
   "cell_type": "code",
   "execution_count": 5,
   "metadata": {},
   "outputs": [
    {
     "name": "stdout",
     "output_type": "stream",
     "text": [
      "RMSE linear regression 4.1333278702563594e-16\n",
      "R2 linear regression 1.0\n",
      "RMSE test linear regression 0.1303948801389817\n",
      "q2 external linear regression 0.4424201278542842\n"
     ]
    }
   ],
   "source": [
    "# Linear regression (R=1)\n",
    "lr = LinearRegression()\n",
    "lr.fit(X_train, y_train)\n",
    "lr_train_score = lr.score(X_train, y_train)\n",
    "lr_test_score = lr.score(X_test, y_test)\n",
    "\n",
    "coeffLR = lr.coef_\n",
    "interceptLR = lr.intercept_\n",
    "\n",
    "predictionsLR = pd.DataFrame(lr.predict(X_test), index=X_test.index, columns=['Prediction'])\n",
    "y_hat_lr = lr.predict(X_train)\n",
    "RMSE_lr = sqrt(mean_squared_error(y_train, y_hat_lr))\n",
    "r_lr = np.corrcoef(y_train, y_hat_lr)\n",
    "R2lr = r_lr[0][1]**2\n",
    "\n",
    "y_hat_test_lr = pd.DataFrame(lr.predict(X_test), index=X_test.index, columns=['Prediction'])\n",
    "RMSE_test_lr = sqrt(mean_squared_error(y_test, y_hat_test_lr))\n",
    "q2lr = q2ext(y_test, predictionsLR, y_train)\n",
    "print(\"RMSE linear regression\", RMSE_lr)\n",
    "print(\"R2 linear regression\", R2lr)\n",
    "print(\"RMSE test linear regression\", RMSE_test_lr)\n",
    "print(\"q2 external linear regression\", q2lr)"
   ]
  },
  {
   "cell_type": "markdown",
   "metadata": {},
   "source": [
    "## Lasso"
   ]
  },
  {
   "cell_type": "code",
   "execution_count": 6,
   "metadata": {},
   "outputs": [
    {
     "name": "stdout",
     "output_type": "stream",
     "text": [
      "optimum alpha:  0.005533069651677502\n",
      "training score: 0.8300574644626307\n",
      "test score:  0.7187422681116893\n",
      "number of features used:  8\n",
      "RMSE lasso 0.10265117837449741\n",
      "R2 lasso 0.8485462407667924\n",
      "RMSE test lasso 0.09039558314125638\n",
      "q2 external lasso 0.7320335452528778\n"
     ]
    }
   ],
   "source": [
    "lasso = LassoCV(cv=5, random_state=0)\n",
    "lasso.fit(X_train, y_train)\n",
    "train_score = lasso.score(X_train, y_train)\n",
    "test_score = lasso.score(X_test, y_test)\n",
    "opt_alpha = lasso.alpha_\n",
    "\n",
    "coeff = lasso.coef_\n",
    "intercept_lasso = lasso.intercept_\n",
    "coeff_used = np.sum(lasso.coef_ != 0)\n",
    "\n",
    "#train\n",
    "y_hat_lasso = lasso.predict(X_train)\n",
    "RMSE_lasso = sqrt(mean_squared_error(y_train, y_hat_lasso))\n",
    "r_lasso = np.corrcoef(y_train, y_hat_lasso)\n",
    "R2_lasso = r_lasso[0][1]**2\n",
    "\n",
    "# test\n",
    "predictions = pd.DataFrame(lasso.predict(X_test), index=X_test.index, columns=['Prediction'])\n",
    "q2_lasso = q2ext(y_test, predictions, y_train)\n",
    "RMSE_test_lasso = sqrt(mean_squared_error(y_test, predictions))\n",
    "\n",
    "print(\"optimum alpha: \", opt_alpha)\n",
    "print(\"training score:\", train_score)\n",
    "print(\"test score: \", test_score)\n",
    "print(\"number of features used: \", coeff_used)\n",
    "print(\"RMSE lasso\", RMSE_lasso)\n",
    "print(\"R2 lasso\", R2_lasso)\n",
    "print(\"RMSE test lasso\", RMSE_test_lasso)\n",
    "print(\"q2 external lasso\", q2_lasso)"
   ]
  },
  {
   "cell_type": "markdown",
   "metadata": {},
   "source": [
    "## Select primary comprative model"
   ]
  },
  {
   "cell_type": "code",
   "execution_count": 8,
   "metadata": {},
   "outputs": [],
   "source": [
    "# lasso\n",
    "if RMSE_test_lasso <= RMSE_test_lr:\n",
    "    selected_base_model = \"lasso\"\n",
    "    base_model = lasso\n",
    "    optRMSE_test = RMSE_test_lasso\n",
    "    MAE_in_test = st.mean(abs(predictions.squeeze() - y_test))\n",
    "    REG_in = sum(abs(lasso.coef_))\n",
    "    selected_variables = coeff\n",
    "    intercept_base = intercept_lasso\n",
    "    R2_base = R2_lasso\n",
    "    RMSE_base = RMSE_lasso\n",
    "    q2_base = q2_lasso\n",
    "    RMSE_test_base = RMSE_test_lasso\n",
    "    y_hat_base = y_hat_lasso\n",
    "    y_hat_test_base = lasso.predict(X_test)\n",
    "# MLR\n",
    "else:\n",
    "    selected_base_model = \"MLR\"\n",
    "    base_model = lr\n",
    "    optRMSE_test = RMSE_test_lr\n",
    "    MAE_in_test = st.mean(abs(predictionsLR.squeeze() - y_test))\n",
    "    REG_in = sum(abs(coeffLR))\n",
    "    selected_variables = coeffLR\n",
    "    intercept_base = interceptLR\n",
    "    R2_base = R2lr\n",
    "    RMSE_base = RMSE_lr\n",
    "    q2_base = q2lr\n",
    "    RMSE_test_base = RMSE_test_lr\n",
    "    y_hat_base = y_hat_lr\n",
    "    y_hat_test_base = lr.predict(X_test)"
   ]
  },
  {
   "cell_type": "code",
   "execution_count": 9,
   "metadata": {},
   "outputs": [
    {
     "data": {
      "text/plain": [
       "'lasso'"
      ]
     },
     "execution_count": 9,
     "metadata": {},
     "output_type": "execute_result"
    }
   ],
   "source": [
    "selected_base_model"
   ]
  },
  {
   "cell_type": "markdown",
   "metadata": {},
   "source": [
    "## Main deimos"
   ]
  },
  {
   "cell_type": "code",
   "execution_count": 10,
   "metadata": {},
   "outputs": [
    {
     "name": "stdout",
     "output_type": "stream",
     "text": [
      "Execution CPU time [s]: 0.234375\n",
      "Wall time: 7min 29s\n"
     ]
    }
   ],
   "source": [
    "%%time\n",
    "# parameters\n",
    "lREG_min = 0.001\n",
    "lREG_max = 0.07 \n",
    "step = 0.001\n",
    "U = 10\n",
    "U2 = abs(sum(y_test))\n",
    "beta = 0.05\n",
    "epsilon = 0.05\n",
    "\n",
    "start_parall = time.process_time()\n",
    "\n",
    "# Step 1: Init multiprocessing.Pool()\n",
    "pool = mp.Pool(mp.cpu_count())\n",
    "\n",
    "# Step 2: `pool.apply` the `deimos_regions()`\n",
    "results = [pool.apply(deimos_regions, args = (lREG, MAE_in_test, REG_in, epsilon, beta, U, U2, features, samples_train, X_train, y_train, X_test, y_test, y_hat_base, y_hat_test_base)) for lREG in np.arange(lREG_min, lREG_max, step)]\n",
    "\n",
    "# Step 3: Close\n",
    "pool.close() \n",
    "\n",
    "end_parall = time.process_time()\n",
    "\n",
    "print(\"Execution CPU time [s]:\", (end_parall-start_parall))"
   ]
  },
  {
   "cell_type": "markdown",
   "metadata": {},
   "source": [
    "## Optimal solution"
   ]
  },
  {
   "cell_type": "code",
   "execution_count": 11,
   "metadata": {},
   "outputs": [],
   "source": [
    "optFound = 0\n",
    "\n",
    "# save results from each lREG\n",
    "finalregions_lREG = []\n",
    "bestYr_lREG = []\n",
    "bestWrf_lREG = []\n",
    "bestBr_lREG = []\n",
    "bestFrs_lREG = []\n",
    "bestREG_lREG = []\n",
    "bestMAE_lREG = []\n",
    "bestPred_lREG = []\n",
    "bestEs_lREG = []\n",
    "y_hat_lREG = []\n",
    "best_z_lREG = []\n",
    "best_correctly_assigned_lREG = []\n",
    "bestPs_test_lREG = []\n",
    "RMSE_test_lREG = []\n",
    "y_hat_test_lREG = []\n",
    "test_idx_lREG = []\n",
    "bestcentroids_lREG = []\n",
    "bestvar_lREG = []\n",
    "\n",
    "for i in range(len(results)):\n",
    "    finalregions_lREG.append(results[i][0])\n",
    "    bestYr_lREG.append(results[i][1])\n",
    "    bestWrf_lREG.append(results[i][2])\n",
    "    bestBr_lREG.append(results[i][3])\n",
    "    bestFrs_lREG.append(results[i][4])\n",
    "    bestREG_lREG.append(results[i][5])\n",
    "    bestMAE_lREG.append(results[i][6])\n",
    "    bestPred_lREG.append(results[i][7])\n",
    "    bestEs_lREG.append(results[i][8])\n",
    "    y_hat_lREG.append(results[i][9])\n",
    "    best_z_lREG.append(results[i][10])\n",
    "    best_correctly_assigned_lREG.append(results[i][11])\n",
    "    bestPs_test_lREG.append(results[i][12])\n",
    "    RMSE_test_lREG.append(results[i][13])\n",
    "    y_hat_test_lREG.append(results[i][14])\n",
    "    test_idx_lREG.append(results[i][15])\n",
    "    bestcentroids_lREG.append(results[i][16])\n",
    "    bestvar_lREG.append(results[i][17])\n",
    "\n",
    "for i in range(len(finalregions_lREG)):\n",
    "    if finalregions_lREG[i] >= 2:\n",
    "        possible_opt = RMSE_test_lREG[i]\n",
    "        if possible_opt <= optRMSE_test:\n",
    "            optFound = 1  # Optimal grouping in regions found\n",
    "            optRMSE_test = possible_opt\n",
    "            opt_position = RMSE_test_lREG.index(possible_opt)\n",
    "            optlREG = lREG_min + opt_position * step\n",
    "            optregions = finalregions_lREG[opt_position]\n",
    "            optcentroids = bestcentroids_lREG[opt_position]\n",
    "            opt_common_variables = bestvar_lREG[opt_position]\n",
    "\n",
    "            optYr = bestYr_lREG[opt_position]\n",
    "            optWrf = bestWrf_lREG[opt_position]\n",
    "            optBr = bestBr_lREG[opt_position]\n",
    "            optFrs = bestFrs_lREG[opt_position]\n",
    "            optREG = bestREG_lREG[opt_position]\n",
    "            optMAE = bestMAE_lREG[opt_position]\n",
    "            optPred = bestPred_lREG[opt_position]\n",
    "            optz = best_z_lREG[opt_position]\n",
    "            optEs = bestEs_lREG[opt_position]\n",
    "            opt_y_hat = y_hat_lREG[opt_position]\n",
    "            opt_correctly_assigned = best_correctly_assigned_lREG[opt_position]\n",
    "\n",
    "            optPs_test = bestPs_test_lREG[opt_position]\n",
    "            opt_y_hat_test = y_hat_test_lREG[opt_position]\n",
    "            optTest_idx = test_idx_lREG[opt_position]\n",
    "            optPs_test = bestPs_test_lREG[opt_position]       "
   ]
  },
  {
   "cell_type": "code",
   "execution_count": 13,
   "metadata": {},
   "outputs": [],
   "source": [
    "if optFound == 1:        \n",
    "    # Training statistics\n",
    "    # R2 & RMSE in regions\n",
    "    optR2_re = []\n",
    "    optRMSE_re = []\n",
    "    y_train_re = []\n",
    "    Ps = pd.DataFrame(optPred)*pd.DataFrame(optFrs)\n",
    "    for re in range(optregions):\n",
    "        if sum(optFrs[re]) <= 1:\n",
    "            optR2_re.append(np.nan)\n",
    "            optRMSE_re.append(np.nan)\n",
    "        else:\n",
    "            flag = pd.DataFrame(optFrs).iloc[re,] == 1\n",
    "            pos = np.flatnonzero(flag)  # position of samples\n",
    "            y_train_re.append(y_train.iloc[pos])\n",
    "            y_hat_re = Ps.iloc[re].iloc[pos]\n",
    "            r_re = np.corrcoef(y_train_re[re], y_hat_re)\n",
    "            optR2_re.append(r_re[0][1] ** 2)\n",
    "            optRMSE_re.append(sqrt(mean_squared_error(y_train_re[re], y_hat_re)))\n",
    "            del y_hat_re, r_re\n",
    "                \n",
    "    # R2 training\n",
    "    r = np.corrcoef(y_train, opt_y_hat)\n",
    "    optR2 = r[0][1]**2\n",
    "\n",
    "    # RMSE\n",
    "    optRMSE = sqrt(mean_squared_error(y_train, opt_y_hat))\n",
    "        \n",
    "    #Test statistics\n",
    "    # q2 test\n",
    "    optq2 = q2ext(y_test, opt_y_hat_test, y_train)\n",
    "        \n",
    "    # q2 & RMSE in regions\n",
    "    optq2_re = []\n",
    "    optRMSE_re = []\n",
    "    for re in range(optregions):\n",
    "        if sum(optTest_idx[re]) < 1:\n",
    "            optq2_re.append(np.nan)\n",
    "            optRMSE_re.append(np.nan)\n",
    "        else:\n",
    "            flag = pd.DataFrame(optTest_idx).iloc[re,] == 1\n",
    "            pos = np.flatnonzero(flag)  # position of samples\n",
    "            y_test_re = y_test.iloc[pos]\n",
    "            y_test_hat_re = optPs_test.iloc[re].iloc[pos]\n",
    "            y_train_re = y_train.iloc[pos]\n",
    "            optq2_re.append(q2ext(y_test_re, y_test_hat_re, y_train_re))\n",
    "            optRMSE_re.append(sqrt(mean_squared_error(y_test_re, y_test_hat_re)))\n",
    "            del y_test_re, y_test_hat_re   \n",
    "        "
   ]
  },
  {
   "cell_type": "markdown",
   "metadata": {},
   "source": [
    "## Selected variables"
   ]
  },
  {
   "cell_type": "code",
   "execution_count": 14,
   "metadata": {},
   "outputs": [],
   "source": [
    "if optFound == 1:\n",
    "    group_train = []\n",
    "    for i in range(samples_train):\n",
    "        for re in range(optregions):\n",
    "            if optFrs[re][i] == 1:\n",
    "                group_train.append((\"region\"+str(re)))\n",
    "\n",
    "    group_test = []\n",
    "    for i in range(samples_test):\n",
    "        for re in range(optregions):\n",
    "            if optTest_idx[re][i] == 1:\n",
    "                group_test.append((\"region\"+str(re)))\n",
    "\n",
    "    group_train = pd.DataFrame(group_train, index = X_train.index)\n",
    "    group_test = pd.DataFrame(group_test, index = X_test.index)\n",
    "    \n",
    "else:\n",
    "    print(\"No optimal solution found-no possible grouping\")"
   ]
  },
  {
   "cell_type": "code",
   "execution_count": 15,
   "metadata": {},
   "outputs": [
    {
     "name": "stdout",
     "output_type": "stream",
     "text": [
      "Variables in region 0 Index(['lspri_serum', 'zav_synth', 'zav_serum', 'vol_synth', 'zp_synth_sign',\n",
      "       'P02649', 'P0C0L5', 'P10720', 'P02749', 'P02654', 'Q13103', 'P00748',\n",
      "       'P00740', 'P03950', 'P09871', 'P27169', 'P20851', 'P08567', 'P00451',\n",
      "       'Q99467'],\n",
      "      dtype='object')\n",
      "Variables in region 1 Index(['lspri_serum', 'vol_synth', 'int_serum', 'zav_rel', 'P01009', 'P00738',\n",
      "       'P01011', 'P00736', 'P01019', 'P02671', 'Q99467'],\n",
      "      dtype='object')\n",
      "# variables per region [20, 11]\n",
      "total variables 28\n"
     ]
    }
   ],
   "source": [
    "total_selected = []\n",
    "if optFound == 1:\n",
    "    selINregion = []\n",
    "    for re in range(optregions):\n",
    "        selected = X.columns[[optWrf[re][i]>0 for i in range(len(optWrf[1]))]]\n",
    "        print(\"Variables in region\", re, selected)\n",
    "        selINregion.append(len(selected))\n",
    "        for i in selected:\n",
    "            if i not in total_selected:\n",
    "                total_selected.append(i)\n",
    "    print('# variables per region', selINregion)\n",
    "    print('total variables', len(total_selected))\n",
    "else:\n",
    "    selected =  X.columns[[selected_variables[i]!=0 for i in range(len(selected_variables))]]\n",
    "    for i in selected:\n",
    "        if i not in total_selected:\n",
    "            total_selected.append(i)\n",
    "    print('total variables', len(total_selected))\n",
    "    print(\"Variables\", selected)"
   ]
  },
  {
   "cell_type": "markdown",
   "metadata": {},
   "source": [
    "## Samples in regions"
   ]
  },
  {
   "cell_type": "code",
   "execution_count": 16,
   "metadata": {},
   "outputs": [
    {
     "name": "stdout",
     "output_type": "stream",
     "text": [
      "train samples per region [43, 12]\n",
      "test samples per region [25, 4]\n"
     ]
    }
   ],
   "source": [
    "if optFound == 1:\n",
    "    trainINregions = []\n",
    "    testINregions = []\n",
    "    for re in range(optregions):\n",
    "        trainINregions.append(len(X_train.index[(np.where(optFrs[re]))]))\n",
    "        testINregions.append(len(X_test.index[(np.where(optTest_idx[re]))]))\n",
    "        \n",
    "    print('train samples per region', trainINregions)\n",
    "    print('test samples per region', testINregions)"
   ]
  },
  {
   "cell_type": "markdown",
   "metadata": {},
   "source": [
    "## Train statistics"
   ]
  },
  {
   "cell_type": "code",
   "execution_count": 17,
   "metadata": {},
   "outputs": [
    {
     "name": "stdout",
     "output_type": "stream",
     "text": [
      "lambda optimal:  0.001\n",
      "Correctly assigned training samples in clusterig 52 out of 55\n",
      "train-RMSE optimal:  0.06234027448512108\n",
      "train-RMSE optimal per region:  [0.07526368131255784, 0.0382700005833685]\n",
      "R2 optimal:  0.9387487973590238\n",
      "R2 optimal per region:  [0.7550302968778426, 1.0]\n"
     ]
    }
   ],
   "source": [
    "if optFound == 1:\n",
    "    print(\"lambda optimal: \", optlREG)\n",
    "    print(\"Correctly assigned training samples in clusterig\", sum(opt_correctly_assigned.iloc[0]), \"out of\", samples_train)\n",
    "    print(\"train-RMSE optimal: \", optRMSE)\n",
    "    print(\"train-RMSE optimal per region: \", optRMSE_re)\n",
    "    print(\"R2 optimal: \", optR2)\n",
    "    print(\"R2 optimal per region: \", optR2_re)\n",
    "else:\n",
    "    print(\"Results for one region \", selected_base_model)\n",
    "    print(\"train-RMSE: \", RMSE_base)\n",
    "    print(\"R2: \", R2_base)"
   ]
  },
  {
   "cell_type": "code",
   "execution_count": 18,
   "metadata": {},
   "outputs": [
    {
     "name": "stdout",
     "output_type": "stream",
     "text": [
      "samples in regions\n",
      "region 0\n",
      "Index(['G15.NT@DCA', 'G60.DTNB', 'G15.CTAB', 'G30.TP', 'G15.DDT@ODA', 'G15.LA',\n",
      "       'G60.PVA', 'G60.CIT', 'G15.AC', 'G15.NT@PSMA-EDA', 'G15.MES',\n",
      "       'G60.DDT@BDHDA', 'G15.DDT@SDS', 'G60.MBA', 'G15.CALNN', 'G15.T20',\n",
      "       'G15.SA', 'G15.DDT@BDHDA', 'G60.CVVIT', 'G15.DDT@SA', 'G60.CTAB',\n",
      "       'G30.Thr-SH', 'G15.MSA', 'G15.SPP', 'G15.PVP', 'G60.ODA', 'G30.MAA',\n",
      "       'G15.DTNB', 'G15.DDT@CTAB', 'G15.Gly-SH', 'G30.CFGAILS', 'G30.LA',\n",
      "       'G15.ODA', 'G15.TP', 'G30.MUA', 'G15.MHDA', 'G60.NT@PSMA-AP',\n",
      "       'G30.DDT@BDHDA', 'G15.F127', 'G30.DDT@CTAB', 'G60.Trp-SH', 'G15.PVA',\n",
      "       'G15.Met-SH'],\n",
      "      dtype='object', name='ENM')\n",
      "region 1\n",
      "Index(['G15.MUTA', 'G60.AUT', 'G60.MUTA', 'G15.PAH-SH', 'G15.PLL-SH',\n",
      "       'G15.HDA', 'G15.AHT', 'G30.DDT@DOTAP', 'G30.PAH-SH', 'G60.DDT@DOTAP',\n",
      "       'G15.DDT@DOTAP', 'G30.MUTA'],\n",
      "      dtype='object', name='ENM')\n"
     ]
    }
   ],
   "source": [
    "if optFound == 1:\n",
    "    print(\"samples in regions\")\n",
    "    for re in range(optregions):\n",
    "        print(\"region\", re)\n",
    "        print(X_train.index[(np.where(optFrs[re]))])"
   ]
  },
  {
   "cell_type": "markdown",
   "metadata": {},
   "source": [
    "## Test statistics"
   ]
  },
  {
   "cell_type": "code",
   "execution_count": 19,
   "metadata": {
    "scrolled": true
   },
   "outputs": [
    {
     "name": "stdout",
     "output_type": "stream",
     "text": [
      "test-RMSE optimal:  0.07131134138568868\n",
      "test-RMSE per region:  [0.07526368131255784, 0.0382700005833685]\n",
      "q2 optimal:  0.8332356479254565\n",
      "q2 per region:  [0.7553181551120335, 0.9934610786589052]\n"
     ]
    }
   ],
   "source": [
    "if optFound == 1:\n",
    "    r_test = np.corrcoef(y_test, opt_y_hat_test)\n",
    "    r2_test = r_test[0][1]**2\n",
    "    print(\"test-RMSE optimal: \", optRMSE_test)\n",
    "    print(\"test-RMSE per region: \", optRMSE_re)\n",
    "    print(\"q2 optimal: \", optq2)\n",
    "    print(\"q2 per region: \", optq2_re)\n",
    "    print(\"r2 test: \", r2_test)\n",
    "    \n",
    "else:\n",
    "    r_test = np.corrcoef(y_test, y_hat_test_base)\n",
    "    r2_test = r_test[0][1]**2\n",
    "    print(\"Results for one region \", selected_base_model)\n",
    "    print(\"test-RMSE: \", RMSE_test_base)\n",
    "    print(\"q2: \", q2_base)\n",
    "    print(\"r2 test: \", r2_test)"
   ]
  },
  {
   "cell_type": "code",
   "execution_count": 20,
   "metadata": {},
   "outputs": [
    {
     "data": {
      "text/html": [
       "<div>\n",
       "<style scoped>\n",
       "    .dataframe tbody tr th:only-of-type {\n",
       "        vertical-align: middle;\n",
       "    }\n",
       "\n",
       "    .dataframe tbody tr th {\n",
       "        vertical-align: top;\n",
       "    }\n",
       "\n",
       "    .dataframe thead th {\n",
       "        text-align: right;\n",
       "    }\n",
       "</style>\n",
       "<table border=\"1\" class=\"dataframe\">\n",
       "  <thead>\n",
       "    <tr style=\"text-align: right;\">\n",
       "      <th></th>\n",
       "      <th>net.c</th>\n",
       "      <th>Prediction</th>\n",
       "    </tr>\n",
       "    <tr>\n",
       "      <th>ENM</th>\n",
       "      <th></th>\n",
       "      <th></th>\n",
       "    </tr>\n",
       "  </thead>\n",
       "  <tbody>\n",
       "    <tr>\n",
       "      <th>G15.MUTA</th>\n",
       "      <td>0.877500</td>\n",
       "      <td>0.877500</td>\n",
       "    </tr>\n",
       "    <tr>\n",
       "      <th>G15.NT@DCA</th>\n",
       "      <td>0.000000</td>\n",
       "      <td>0.162830</td>\n",
       "    </tr>\n",
       "    <tr>\n",
       "      <th>G60.DTNB</th>\n",
       "      <td>0.273913</td>\n",
       "      <td>0.349582</td>\n",
       "    </tr>\n",
       "    <tr>\n",
       "      <th>G15.CTAB</th>\n",
       "      <td>0.274847</td>\n",
       "      <td>0.274847</td>\n",
       "    </tr>\n",
       "    <tr>\n",
       "      <th>G30.TP</th>\n",
       "      <td>0.448303</td>\n",
       "      <td>0.448303</td>\n",
       "    </tr>\n",
       "    <tr>\n",
       "      <th>G15.DDT@ODA</th>\n",
       "      <td>0.248672</td>\n",
       "      <td>0.248672</td>\n",
       "    </tr>\n",
       "    <tr>\n",
       "      <th>G60.AUT</th>\n",
       "      <td>0.787473</td>\n",
       "      <td>0.787473</td>\n",
       "    </tr>\n",
       "    <tr>\n",
       "      <th>G15.LA</th>\n",
       "      <td>0.264590</td>\n",
       "      <td>0.264590</td>\n",
       "    </tr>\n",
       "    <tr>\n",
       "      <th>G60.PVA</th>\n",
       "      <td>0.321332</td>\n",
       "      <td>0.274560</td>\n",
       "    </tr>\n",
       "    <tr>\n",
       "      <th>G60.MUTA</th>\n",
       "      <td>1.000000</td>\n",
       "      <td>1.000000</td>\n",
       "    </tr>\n",
       "    <tr>\n",
       "      <th>G60.CIT</th>\n",
       "      <td>0.387258</td>\n",
       "      <td>0.394446</td>\n",
       "    </tr>\n",
       "    <tr>\n",
       "      <th>G15.AC</th>\n",
       "      <td>0.343270</td>\n",
       "      <td>0.343270</td>\n",
       "    </tr>\n",
       "    <tr>\n",
       "      <th>G15.NT@PSMA-EDA</th>\n",
       "      <td>0.321147</td>\n",
       "      <td>0.321147</td>\n",
       "    </tr>\n",
       "    <tr>\n",
       "      <th>G15.PAH-SH</th>\n",
       "      <td>0.767277</td>\n",
       "      <td>0.767277</td>\n",
       "    </tr>\n",
       "    <tr>\n",
       "      <th>G15.MES</th>\n",
       "      <td>0.543438</td>\n",
       "      <td>0.543438</td>\n",
       "    </tr>\n",
       "    <tr>\n",
       "      <th>G60.DDT@BDHDA</th>\n",
       "      <td>0.438744</td>\n",
       "      <td>0.438744</td>\n",
       "    </tr>\n",
       "    <tr>\n",
       "      <th>G15.DDT@SDS</th>\n",
       "      <td>0.091918</td>\n",
       "      <td>0.252293</td>\n",
       "    </tr>\n",
       "    <tr>\n",
       "      <th>G60.MBA</th>\n",
       "      <td>0.594890</td>\n",
       "      <td>0.519221</td>\n",
       "    </tr>\n",
       "    <tr>\n",
       "      <th>G15.CALNN</th>\n",
       "      <td>0.146180</td>\n",
       "      <td>0.160968</td>\n",
       "    </tr>\n",
       "    <tr>\n",
       "      <th>G15.T20</th>\n",
       "      <td>0.269326</td>\n",
       "      <td>0.314486</td>\n",
       "    </tr>\n",
       "    <tr>\n",
       "      <th>G15.SA</th>\n",
       "      <td>0.269414</td>\n",
       "      <td>0.341756</td>\n",
       "    </tr>\n",
       "    <tr>\n",
       "      <th>G15.DDT@BDHDA</th>\n",
       "      <td>0.130392</td>\n",
       "      <td>0.152209</td>\n",
       "    </tr>\n",
       "    <tr>\n",
       "      <th>G15.PLL-SH</th>\n",
       "      <td>0.768719</td>\n",
       "      <td>0.768719</td>\n",
       "    </tr>\n",
       "    <tr>\n",
       "      <th>G60.CVVIT</th>\n",
       "      <td>0.397339</td>\n",
       "      <td>0.397339</td>\n",
       "    </tr>\n",
       "    <tr>\n",
       "      <th>G15.DDT@SA</th>\n",
       "      <td>0.179874</td>\n",
       "      <td>0.179874</td>\n",
       "    </tr>\n",
       "    <tr>\n",
       "      <th>G60.CTAB</th>\n",
       "      <td>0.455913</td>\n",
       "      <td>0.417974</td>\n",
       "    </tr>\n",
       "    <tr>\n",
       "      <th>G15.HDA</th>\n",
       "      <td>0.838861</td>\n",
       "      <td>0.838861</td>\n",
       "    </tr>\n",
       "    <tr>\n",
       "      <th>G30.Thr-SH</th>\n",
       "      <td>0.287409</td>\n",
       "      <td>0.287409</td>\n",
       "    </tr>\n",
       "    <tr>\n",
       "      <th>G15.MSA</th>\n",
       "      <td>0.250384</td>\n",
       "      <td>0.308919</td>\n",
       "    </tr>\n",
       "    <tr>\n",
       "      <th>G15.AHT</th>\n",
       "      <td>0.764404</td>\n",
       "      <td>0.764404</td>\n",
       "    </tr>\n",
       "    <tr>\n",
       "      <th>G30.DDT@DOTAP</th>\n",
       "      <td>0.814324</td>\n",
       "      <td>0.814324</td>\n",
       "    </tr>\n",
       "    <tr>\n",
       "      <th>G15.SPP</th>\n",
       "      <td>0.199325</td>\n",
       "      <td>0.183685</td>\n",
       "    </tr>\n",
       "    <tr>\n",
       "      <th>G15.PVP</th>\n",
       "      <td>0.258752</td>\n",
       "      <td>0.222283</td>\n",
       "    </tr>\n",
       "    <tr>\n",
       "      <th>G60.ODA</th>\n",
       "      <td>0.526129</td>\n",
       "      <td>0.526129</td>\n",
       "    </tr>\n",
       "    <tr>\n",
       "      <th>G30.MAA</th>\n",
       "      <td>0.246631</td>\n",
       "      <td>0.246631</td>\n",
       "    </tr>\n",
       "    <tr>\n",
       "      <th>G15.DTNB</th>\n",
       "      <td>0.252571</td>\n",
       "      <td>0.252571</td>\n",
       "    </tr>\n",
       "    <tr>\n",
       "      <th>G15.DDT@CTAB</th>\n",
       "      <td>0.100582</td>\n",
       "      <td>0.198469</td>\n",
       "    </tr>\n",
       "    <tr>\n",
       "      <th>G15.Gly-SH</th>\n",
       "      <td>0.364312</td>\n",
       "      <td>0.330454</td>\n",
       "    </tr>\n",
       "    <tr>\n",
       "      <th>G30.PAH-SH</th>\n",
       "      <td>0.795755</td>\n",
       "      <td>0.795755</td>\n",
       "    </tr>\n",
       "    <tr>\n",
       "      <th>G30.CFGAILS</th>\n",
       "      <td>0.225071</td>\n",
       "      <td>0.235512</td>\n",
       "    </tr>\n",
       "    <tr>\n",
       "      <th>G30.LA</th>\n",
       "      <td>0.356652</td>\n",
       "      <td>0.356652</td>\n",
       "    </tr>\n",
       "    <tr>\n",
       "      <th>G15.ODA</th>\n",
       "      <td>0.587221</td>\n",
       "      <td>0.308957</td>\n",
       "    </tr>\n",
       "    <tr>\n",
       "      <th>G15.TP</th>\n",
       "      <td>0.396864</td>\n",
       "      <td>0.396864</td>\n",
       "    </tr>\n",
       "    <tr>\n",
       "      <th>G30.MUA</th>\n",
       "      <td>0.406698</td>\n",
       "      <td>0.406698</td>\n",
       "    </tr>\n",
       "    <tr>\n",
       "      <th>G15.MHDA</th>\n",
       "      <td>0.283314</td>\n",
       "      <td>0.348247</td>\n",
       "    </tr>\n",
       "    <tr>\n",
       "      <th>G60.NT@PSMA-AP</th>\n",
       "      <td>0.428542</td>\n",
       "      <td>0.428542</td>\n",
       "    </tr>\n",
       "    <tr>\n",
       "      <th>G30.DDT@BDHDA</th>\n",
       "      <td>0.366627</td>\n",
       "      <td>0.259964</td>\n",
       "    </tr>\n",
       "    <tr>\n",
       "      <th>G15.F127</th>\n",
       "      <td>0.325395</td>\n",
       "      <td>0.325395</td>\n",
       "    </tr>\n",
       "    <tr>\n",
       "      <th>G30.DDT@CTAB</th>\n",
       "      <td>0.099738</td>\n",
       "      <td>0.221973</td>\n",
       "    </tr>\n",
       "    <tr>\n",
       "      <th>G60.Trp-SH</th>\n",
       "      <td>0.467286</td>\n",
       "      <td>0.365012</td>\n",
       "    </tr>\n",
       "    <tr>\n",
       "      <th>G15.PVA</th>\n",
       "      <td>0.066277</td>\n",
       "      <td>0.130712</td>\n",
       "    </tr>\n",
       "    <tr>\n",
       "      <th>G15.Met-SH</th>\n",
       "      <td>0.268178</td>\n",
       "      <td>0.268178</td>\n",
       "    </tr>\n",
       "    <tr>\n",
       "      <th>G60.DDT@DOTAP</th>\n",
       "      <td>0.835551</td>\n",
       "      <td>0.835551</td>\n",
       "    </tr>\n",
       "    <tr>\n",
       "      <th>G15.DDT@DOTAP</th>\n",
       "      <td>0.752400</td>\n",
       "      <td>0.752400</td>\n",
       "    </tr>\n",
       "    <tr>\n",
       "      <th>G30.MUTA</th>\n",
       "      <td>0.916564</td>\n",
       "      <td>0.916564</td>\n",
       "    </tr>\n",
       "  </tbody>\n",
       "</table>\n",
       "</div>"
      ],
      "text/plain": [
       "                    net.c  Prediction\n",
       "ENM                                  \n",
       "G15.MUTA         0.877500    0.877500\n",
       "G15.NT@DCA       0.000000    0.162830\n",
       "G60.DTNB         0.273913    0.349582\n",
       "G15.CTAB         0.274847    0.274847\n",
       "G30.TP           0.448303    0.448303\n",
       "G15.DDT@ODA      0.248672    0.248672\n",
       "G60.AUT          0.787473    0.787473\n",
       "G15.LA           0.264590    0.264590\n",
       "G60.PVA          0.321332    0.274560\n",
       "G60.MUTA         1.000000    1.000000\n",
       "G60.CIT          0.387258    0.394446\n",
       "G15.AC           0.343270    0.343270\n",
       "G15.NT@PSMA-EDA  0.321147    0.321147\n",
       "G15.PAH-SH       0.767277    0.767277\n",
       "G15.MES          0.543438    0.543438\n",
       "G60.DDT@BDHDA    0.438744    0.438744\n",
       "G15.DDT@SDS      0.091918    0.252293\n",
       "G60.MBA          0.594890    0.519221\n",
       "G15.CALNN        0.146180    0.160968\n",
       "G15.T20          0.269326    0.314486\n",
       "G15.SA           0.269414    0.341756\n",
       "G15.DDT@BDHDA    0.130392    0.152209\n",
       "G15.PLL-SH       0.768719    0.768719\n",
       "G60.CVVIT        0.397339    0.397339\n",
       "G15.DDT@SA       0.179874    0.179874\n",
       "G60.CTAB         0.455913    0.417974\n",
       "G15.HDA          0.838861    0.838861\n",
       "G30.Thr-SH       0.287409    0.287409\n",
       "G15.MSA          0.250384    0.308919\n",
       "G15.AHT          0.764404    0.764404\n",
       "G30.DDT@DOTAP    0.814324    0.814324\n",
       "G15.SPP          0.199325    0.183685\n",
       "G15.PVP          0.258752    0.222283\n",
       "G60.ODA          0.526129    0.526129\n",
       "G30.MAA          0.246631    0.246631\n",
       "G15.DTNB         0.252571    0.252571\n",
       "G15.DDT@CTAB     0.100582    0.198469\n",
       "G15.Gly-SH       0.364312    0.330454\n",
       "G30.PAH-SH       0.795755    0.795755\n",
       "G30.CFGAILS      0.225071    0.235512\n",
       "G30.LA           0.356652    0.356652\n",
       "G15.ODA          0.587221    0.308957\n",
       "G15.TP           0.396864    0.396864\n",
       "G30.MUA          0.406698    0.406698\n",
       "G15.MHDA         0.283314    0.348247\n",
       "G60.NT@PSMA-AP   0.428542    0.428542\n",
       "G30.DDT@BDHDA    0.366627    0.259964\n",
       "G15.F127         0.325395    0.325395\n",
       "G30.DDT@CTAB     0.099738    0.221973\n",
       "G60.Trp-SH       0.467286    0.365012\n",
       "G15.PVA          0.066277    0.130712\n",
       "G15.Met-SH       0.268178    0.268178\n",
       "G60.DDT@DOTAP    0.835551    0.835551\n",
       "G15.DDT@DOTAP    0.752400    0.752400\n",
       "G30.MUTA         0.916564    0.916564"
      ]
     },
     "execution_count": 20,
     "metadata": {},
     "output_type": "execute_result"
    }
   ],
   "source": [
    "if optFound == 1:\n",
    "    column_2_train = pd.DataFrame(np.array(opt_y_hat), index=X_train.index, columns=['Prediction'])\n",
    "else:\n",
    "    column_2_train = pd.DataFrame(y_hat_base, index=X_train.index, columns=['Prediction'])\n",
    "\n",
    "pd.concat([y_train, column_2_train], axis = 1)"
   ]
  },
  {
   "cell_type": "code",
   "execution_count": 21,
   "metadata": {},
   "outputs": [
    {
     "name": "stdout",
     "output_type": "stream",
     "text": [
      "samples in regions\n",
      "region 0\n",
      "Index(['G15.Ala-SH', 'G15.Asn-SH', 'G15.CIT', 'G15.MAA', 'G15.MBA', 'G15.MHA',\n",
      "       'G15.MPA', 'G15.MUA', 'G15.NT@PSMA-AAP', 'G15.NT@PSMA-EA',\n",
      "       'G15.NT@PSMA-Urea', 'G15.Phe', 'G15.Phe-SH', 'G15.Ser-SH', 'G15.Thr-SH',\n",
      "       'G15.Trp-SH', 'G30.AC', 'G30.CALNN', 'G30.DDT@HDA', 'G30.Met-SH',\n",
      "       'G30.MHDA', 'G60.MPA', 'G60.Phe-SH', 'G60.Ser-SH', 'G60.SPP'],\n",
      "      dtype='object', name='ENM')\n",
      "region 1\n",
      "Index(['G15.AUT', 'G15.PEI-SH', 'G30.AUT', 'G60.HDA'], dtype='object', name='ENM')\n",
      "                     net.c  Prediction\n",
      "ENM                                   \n",
      "G15.Ala-SH        0.310945    0.269360\n",
      "G15.Asn-SH        0.293567    0.236114\n",
      "G15.AUT           0.733427    0.736450\n",
      "G15.CIT           0.319475    0.262639\n",
      "G15.MAA           0.246631    0.303506\n",
      "G15.MBA           0.323348    0.398292\n",
      "G15.MHA           0.287642    0.363402\n",
      "G15.MPA           0.321884    0.418256\n",
      "G15.MUA           0.377266    0.399295\n",
      "G15.NT@PSMA-AAP   0.238386    0.255578\n",
      "G15.NT@PSMA-EA    0.244039    0.231882\n",
      "G15.NT@PSMA-Urea  0.224593    0.276540\n",
      "G15.PEI-SH        0.735798    0.752966\n",
      "G15.Phe           0.331199    0.259528\n",
      "G15.Phe-SH        0.233857    0.222019\n",
      "G15.Ser-SH        0.339193    0.289911\n",
      "G15.Thr-SH        0.275101    0.208737\n",
      "G15.Trp-SH        0.163546    0.207215\n",
      "G30.AC            0.519570    0.354079\n",
      "G30.AUT           0.701642    0.742291\n",
      "G30.CALNN         0.104455    0.153002\n",
      "G30.DDT@HDA       0.330681    0.469382\n",
      "G30.Met-SH        0.338758    0.292411\n",
      "G30.MHDA          0.429802    0.448340\n",
      "G60.HDA           0.764372    0.826840\n",
      "G60.MPA           0.555526    0.447806\n",
      "G60.Phe-SH        0.447968    0.474342\n",
      "G60.Ser-SH        0.458572    0.358708\n",
      "G60.SPP           0.419211    0.284723\n"
     ]
    }
   ],
   "source": [
    "# final predictions table\n",
    "if optFound == 1:\n",
    "    column_2 = pd.DataFrame(np.array(opt_y_hat_test), index=X_test.index, columns=['Prediction'])\n",
    "    print(\"samples in regions\")\n",
    "    for re in range(optregions):\n",
    "        print(\"region\", re)\n",
    "        print(X_test.index[(np.where(optTest_idx[re]))])\n",
    "else:\n",
    "    column_2 = pd.DataFrame(y_hat_test_base, index=X_test.index, columns=['Prediction'])\n",
    "    \n",
    "final_table = pd.concat([y_test, column_2], axis=1)\n",
    "print(final_table)"
   ]
  },
  {
   "cell_type": "code",
   "execution_count": 22,
   "metadata": {},
   "outputs": [
    {
     "name": "stdout",
     "output_type": "stream",
     "text": [
      "                     net.c  Prediction\n",
      "ENM                                   \n",
      "G15.Ala-SH       -5.504387   -5.916686\n",
      "G15.Asn-SH       -5.676688   -6.246302\n",
      "G15.AUT          -1.315666   -1.285697\n",
      "G15.CIT          -5.419816   -5.983322\n",
      "G15.MAA          -6.142035   -5.578141\n",
      "G15.MBA          -5.381423   -4.638377\n",
      "G15.MHA          -5.735428   -4.984304\n",
      "G15.MPA          -5.395929   -4.440442\n",
      "G15.MUA          -4.846843   -4.628438\n",
      "G15.NT@PSMA-AAP  -6.223778   -6.053329\n",
      "G15.NT@PSMA-EA   -6.167734   -6.288266\n",
      "G15.NT@PSMA-Urea -6.360527   -5.845502\n",
      "G15.PEI-SH       -1.292157   -1.121939\n",
      "G15.Phe          -5.303579   -6.014166\n",
      "G15.Phe-SH       -6.268678   -6.386052\n",
      "G15.Ser-SH       -5.224317   -5.712929\n",
      "G15.Thr-SH       -5.859771   -6.517740\n",
      "G15.Trp-SH       -6.965784   -6.532824\n",
      "G30.AC           -3.435963   -5.076738\n",
      "G30.AUT          -1.630796   -1.227786\n",
      "G30.CALNN        -7.551649   -7.070322\n",
      "G30.DDT@HDA      -5.308716   -3.933557\n",
      "G30.Met-SH       -5.228638   -5.688143\n",
      "G30.MHDA         -4.325973   -4.142181\n",
      "G60.HDA          -1.008856   -0.389518\n",
      "G60.MPA          -3.079478   -4.147467\n",
      "G60.Phe-SH       -4.145861   -3.884380\n",
      "G60.Ser-SH       -4.040734   -5.030844\n",
      "G60.SPP          -4.430976   -5.764364\n",
      "q2 real 0.8332356479254565\n"
     ]
    }
   ],
   "source": [
    "# final predictions table (real values, not normalized)\n",
    "y_test_real = y_test*(y.max() - y.min())+y.min()\n",
    "y_train_real = y_train*(y.max() - y.min())+y.min()\n",
    "if optFound == 1:\n",
    "    opt_y_hat_test_real = opt_y_hat_test*(y.max() - y.min())+y.min()\n",
    "    column_2_real = pd.DataFrame(np.array(opt_y_hat_test_real), index=X_test.index, columns=['Prediction'])\n",
    "    q2_real = q2ext(y_test_real, opt_y_hat_test_real, y_train_real)\n",
    "else:\n",
    "    y_hat_test_base_real = y_hat_test_base*(y.max() - y.min())+y.min()\n",
    "    column_2_real = pd.DataFrame(y_hat_test_base_real, index=X_test.index, columns=['Prediction'])\n",
    "    q2_real = q2ext(y_test_real, y_hat_test_base_real, y_train_real)\n",
    "    \n",
    "    \n",
    "final_table = pd.concat([y_test_real, column_2_real], axis=1)\n",
    "print(final_table)\n",
    "print(\"q2 real\", q2_real)"
   ]
  },
  {
   "cell_type": "code",
   "execution_count": 23,
   "metadata": {},
   "outputs": [
    {
     "name": "stdout",
     "output_type": "stream",
     "text": [
      "optYr [0.644890351708483, 1.0]\n",
      "--------------------------------\n",
      "region 0\n",
      "samples (array([ 0,  1,  3,  4,  5,  6,  7,  8,  9, 10, 11, 13, 14, 15, 16, 17, 18,\n",
      "       20, 21, 22, 23, 25, 26, 27, 28], dtype=int64),)\n",
      "y_test ENM\n",
      "G15.Ala-SH          0.310945\n",
      "G15.Asn-SH          0.293567\n",
      "G15.CIT             0.319475\n",
      "G15.MAA             0.246631\n",
      "G15.MBA             0.323348\n",
      "G15.MHA             0.287642\n",
      "G15.MPA             0.321884\n",
      "G15.MUA             0.377266\n",
      "G15.NT@PSMA-AAP     0.238386\n",
      "G15.NT@PSMA-EA      0.244039\n",
      "G15.NT@PSMA-Urea    0.224593\n",
      "G15.Phe             0.331199\n",
      "G15.Phe-SH          0.233857\n",
      "G15.Ser-SH          0.339193\n",
      "G15.Thr-SH          0.275101\n",
      "G15.Trp-SH          0.163546\n",
      "G30.AC              0.519570\n",
      "G30.CALNN           0.104455\n",
      "G30.DDT@HDA         0.330681\n",
      "G30.Met-SH          0.338758\n",
      "G30.MHDA            0.429802\n",
      "G60.MPA             0.555526\n",
      "G60.Phe-SH          0.447968\n",
      "G60.Ser-SH          0.458572\n",
      "G60.SPP             0.419211\n",
      "Name: net.c, dtype: float64\n",
      "--------------------------------\n",
      "region 1\n",
      "samples (array([ 2, 12, 19, 24], dtype=int64),)\n",
      "y_test ENM\n",
      "G15.AUT       0.733427\n",
      "G15.PEI-SH    0.735798\n",
      "G30.AUT       0.701642\n",
      "G60.HDA       0.764372\n",
      "Name: net.c, dtype: float64\n",
      "--------------------------------\n"
     ]
    }
   ],
   "source": [
    "if optFound == 1:\n",
    "    print(\"optYr\", optYr)\n",
    "    print(\"--------------------------------\")\n",
    "\n",
    "    for re in range(optregions):\n",
    "        print(\"region\", re)\n",
    "        print(\"samples\", np.where(optTest_idx[re]))\n",
    "        print(\"y_test\", y_test.iloc[np.where(optTest_idx[re])])\n",
    "        print(\"--------------------------------\")\n"
   ]
  },
  {
   "cell_type": "markdown",
   "metadata": {},
   "source": [
    "## Model"
   ]
  },
  {
   "cell_type": "code",
   "execution_count": 24,
   "metadata": {
    "scrolled": true
   },
   "outputs": [
    {
     "name": "stdout",
     "output_type": "stream",
     "text": [
      "regions:  2\n",
      "centroids [lspri_serum      0.247866\n",
      "zav_synth        0.155074\n",
      "zav_serum        0.306897\n",
      "vol_synth        0.145799\n",
      "int_serum        0.348017\n",
      "zav_rel          0.317650\n",
      "zp_synth_sign    0.186047\n",
      "P02649           0.215444\n",
      "P01009           0.138661\n",
      "P0C0L5           0.190114\n",
      "P10720           0.280140\n",
      "P02749           0.177930\n",
      "P02654           0.112784\n",
      "P00738           0.085283\n",
      "P01011           0.107706\n",
      "Q13103           0.059842\n",
      "P00736           0.107716\n",
      "P00748           0.118323\n",
      "P00740           0.092603\n",
      "P03950           0.204139\n",
      "P09871           0.077301\n",
      "P27169           0.094216\n",
      "P20851           0.100057\n",
      "P08567           0.062613\n",
      "P01019           0.032406\n",
      "P02671           0.104576\n",
      "P00451           0.067563\n",
      "Q99467           0.015892\n",
      "dtype: float64, lspri_serum      0.474539\n",
      "zav_synth        0.155024\n",
      "zav_serum        0.557149\n",
      "vol_synth        0.148191\n",
      "int_serum        0.582510\n",
      "zav_rel          0.390045\n",
      "zp_synth_sign    1.000000\n",
      "P02649           0.042399\n",
      "P01009           0.514515\n",
      "P0C0L5           0.565459\n",
      "P10720           0.031506\n",
      "P02749           0.000000\n",
      "P02654           0.000000\n",
      "P00738           0.145246\n",
      "P01011           0.311591\n",
      "Q13103           0.415973\n",
      "P00736           0.137487\n",
      "P00748           0.000000\n",
      "P00740           0.218220\n",
      "P03950           0.000000\n",
      "P09871           0.066709\n",
      "P27169           0.083333\n",
      "P20851           0.145700\n",
      "P08567           0.179256\n",
      "P01019           0.315260\n",
      "P02671           0.139055\n",
      "P00451           0.127667\n",
      "Q99467           0.186885\n",
      "dtype: float64]\n",
      "coefficients [[0.0, 0.0, 0.0365399927319084, 0.0, 0.0, 0.0, 0.07046549665824413, 0.21268541903906368, 0.0, 0.0, 0.028018959841095464, 0.0, 0.0, 0.0, 0.0, 0.0, 0.0, 0.0, 0.0, 0.0, 0.0, 0.0, 0.0, 0.0, 0.0, 0.0, 0.0, 0.0, 0.0, 0.0, 0.0, 0.0, 0.0, 0.0, 0.05448209788143376, 0.0, 0.0, 0.0, 0.0, 0.0, 0.0, 0.24234718099630223, 0.0, 0.0, 0.0, 0.0, 0.0, 0.037642611680331235, 0.0, 0.0, 0.0, 0.0, 0.0, 0.0, 0.0, 0.0, 0.0, 0.0, 0.0, 0.09033340026679942, 0.0, 0.0, 0.0, 0.0, 0.0, 0.0, 0.18131576363797142, 0.0, 0.27914900842583307, 0.0, 0.0, 0.0, 0.0, 0.0, 0.0, 0.18104959862151826, 0.0, 0.0680775296080232, 0.0, 0.0, 0.0, 0.0, 0.01738977860339025, 0.018460900213382658, 0.0, 0.07216312812383392, 0.1291212429777482, 0.0, 0.13438642948837798, 0.0, 0.0, 0.024409252155770663, 0.0, 0.0, 0.0, 0.0, 0.0, 0.07734897270246718, 0.0, 0.0, 0.0, 0.10983931019631882], [0.0, 0.0, 0.036849647545900414, 0.0, 0.0, 0.0, 0.0, 0.0, 0.0, 0.0, 0.19801721328144042, 0.0, 0.0, 0.0, 0.0, 0.055770350601623365, 0.0, 0.0, 0.0, 0.0, 0.0, 0.0, 0.0, 0.0, 0.0, 0.016057188278127948, 0.0, 0.0, 0.0, 0.0, 0.0, 0.0, 0.0, 0.0, 0.0, 0.0, 0.0, 0.0, 0.0, 0.0, 0.0, 0.0, 0.0, 0.0, 0.019878399286722807, 0.0, 0.0, 0.0, 0.0, 0.0, 0.0, 0.0, 0.0, 0.0, 0.0, 0.0, 0.0, 0.0, 0.0, 0.0, 0.0, 0.0, 0.0, 0.0, 0.0, 0.0, 0.0, 0.0, 0.0, 0.0, 0.0, 0.049459055240270486, 0.02557322090600229, 0.0, 0.0, 0.0, 0.03710917085459852, 0.0, 0.0, 0.0, 0.0, 0.0, 0.0, 0.0, 0.0, 0.0, 0.0, 0.0, 0.0, 0.0, 0.0, 0.0, 0.09406926350032069, 0.023532289251209867, 0.0, 0.0, 0.0, 0.0, 0.0, 0.0, 0.0, 0.033558450984765315]]\n",
      "intercept:  [0.0, 0.6713062392153797]\n"
     ]
    }
   ],
   "source": [
    "if optFound == 1:\n",
    "    print(\"regions: \", optregions)\n",
    "    print(\"centroids\", optcentroids)\n",
    "    print(\"coefficients\", optWrf)\n",
    "    print(\"intercept: \", optBr)\n",
    "else:\n",
    "    print(\"final model: \", selected_base_model)\n",
    "    print(\"coefficients: \",selected_variables)\n",
    "    print(\"intercept: \", intercept_base)"
   ]
  },
  {
   "cell_type": "markdown",
   "metadata": {},
   "source": [
    "## Plots"
   ]
  },
  {
   "cell_type": "code",
   "execution_count": 25,
   "metadata": {},
   "outputs": [
    {
     "data": {
      "image/png": "[encoded data removed]",
      "text/plain": [
       "<Figure size 432x288 with 1 Axes>"
      ]
     },
     "metadata": {
      "needs_background": "light"
     },
     "output_type": "display_data"
    },
    {
     "data": {
      "image/png": "[encoded data removed]",
      "text/plain": [
       "<Figure size 432x288 with 1 Axes>"
      ]
     },
     "metadata": {
      "needs_background": "light"
     },
     "output_type": "display_data"
    }
   ],
   "source": [
    "if optFound == 1:\n",
    "    for re in range(optregions):\n",
    "        plt.scatter(y_train.iloc[np.where(optFrs[re])], opt_y_hat[np.where(optFrs[re])], c=\"r\", alpha=0.5, label=\"train\")\n",
    "        plt.scatter(y_test.iloc[np.where(optTest_idx[re])], opt_y_hat_test.iloc[np.where(optTest_idx[re])], c=\"g\", alpha=0.5, label=\"test\")\n",
    "        plt.xlabel(\"Experimental value\")\n",
    "        plt.ylabel(\"Predicted value\")\n",
    "        plt.legend(loc='upper left')\n",
    "        plt.show()\n",
    "else:\n",
    "    plt.scatter(y_train, y_hat_base, c=\"r\", alpha=0.5, label=\"train\")\n",
    "    plt.scatter(y_test, y_hat_test_base, c=\"g\", alpha=0.5, label=\"test\")\n",
    "    plt.xlabel(\"Experimental value\")\n",
    "    plt.ylabel(\"Predicted value\")\n",
    "    plt.legend(loc='upper left')\n",
    "    plt.show()"
   ]
  },
  {
   "cell_type": "code",
   "execution_count": 26,
   "metadata": {},
   "outputs": [
    {
     "data": {
      "image/png": "[encoded data removed]",
      "text/plain": [
       "<Figure size 1116x468 with 2 Axes>"
      ]
     },
     "metadata": {
      "needs_background": "light"
     },
     "output_type": "display_data"
    }
   ],
   "source": [
    "if optFound == 1:\n",
    "    fig, axs = plt.subplots(1, optregions)\n",
    "    for re in range(optregions):\n",
    "            axs[re].scatter(y_train.iloc[np.where(optFrs[re])], opt_y_hat[np.where(optFrs[re])], c=\"r\", alpha=0.5,\n",
    "                            label=\"train\")\n",
    "            axs[re].scatter(y_test.iloc[np.where(optTest_idx[re])], opt_y_hat_test.iloc[np.where(optTest_idx[re])],\n",
    "                            c=\"g\", alpha=0.5, label=\"test\")\n",
    "            axs[re].set(xlabel=\"Experimental value\", ylabel=\"Predicted value\")\n",
    "    fig.legend(loc='upper left')\n",
    "    fig.set_size_inches(15.5, 6.5, forward=True)\n",
    "    fig.savefig('finalplot.svg')\n",
    "else:\n",
    "    fig = plt.subplot()\n",
    "    fig.scatter(y_train, y_hat_base, c=\"r\", alpha=0.5, label=\"train\")\n",
    "    fig.scatter(y_test, y_hat_test_base, c=\"g\", alpha=0.5, label=\"test\")\n",
    "    fig.set(xlabel=\"Experimental value\", ylabel=\"Predicted value\")\n",
    "    fig.legend(loc='upper left')\n",
    "    fig.set_size_inches(15.5, 6.5, forward=True)\n",
    "    plt.savefig('finalplot.svg')"
   ]
  },
  {
   "cell_type": "code",
   "execution_count": 28,
   "metadata": {},
   "outputs": [
    {
     "name": "stdout",
     "output_type": "stream",
     "text": [
      "Execution (wall) time [min]: 7.630289097627004\n"
     ]
    }
   ],
   "source": [
    "end = time.time()\n",
    "\n",
    "print(\"Execution (wall) time [min]:\", (end-start)/60)"
   ]
  },
  {
   "cell_type": "code",
   "execution_count": 29,
   "metadata": {},
   "outputs": [
    {
     "name": "stdout",
     "output_type": "stream",
     "text": [
      "Execution CPU time [s]: 6.84375\n"
     ]
    }
   ],
   "source": [
    "end_CPU = time.process_time()\n",
    "\n",
    "print(\"Execution CPU time [s]:\", (end_CPU-start_CPU))"
   ]
  },
  {
   "cell_type": "markdown",
   "metadata": {},
   "source": [
    "## Use the model"
   ]
  },
  {
   "cell_type": "code",
   "execution_count": 30,
   "metadata": {},
   "outputs": [
    {
     "name": "stdout",
     "output_type": "stream",
     "text": [
      "samples in regions\n",
      "region 0\n",
      "Index(['G15.AC', 'G15.Ala-SH', 'G15.Asn-SH', 'G15.CALNN'], dtype='object', name='ENM')\n",
      "region 1\n",
      "Index(['G15.AHT', 'G15.AUT'], dtype='object', name='ENM')\n",
      "            Prediction Applicability\n",
      "ENM                                 \n",
      "G15.AC        0.343270      reliable\n",
      "G15.AHT       0.764404      reliable\n",
      "G15.Ala-SH    0.269360      reliable\n",
      "G15.Asn-SH    0.236114      reliable\n",
      "G15.AUT       0.736450      reliable\n",
      "G15.CALNN     0.160968      reliable\n"
     ]
    }
   ],
   "source": [
    "# Read file with untested samples\n",
    "data_file_untested = \"C:/Users/Dimitra/untested.csv\"\n",
    "data_untested = pd.read_csv(data_file_untested, header=0, sep=\";\", index_col=0)\n",
    "\n",
    "# Scaling\n",
    "X_untested_scaled = (data_untested - X.min()) / (X.max() - X.min())\n",
    "\n",
    "if optFound == 1:\n",
    "    from deimos_final_model import deimos_1D_model\n",
    "\n",
    "    y_hat_untested, untested_idx = deimos_1D_model(optcentroids, opt_common_variables, optregions, X_untested_scaled, optWrf, optBr)\n",
    "    y_hat_untested = pd.DataFrame(np.array(y_hat_untested), index=data_untested.index, columns=['Prediction'])\n",
    "    \n",
    "    print(\"samples in regions\")\n",
    "    for re in range(optregions):\n",
    "        print(\"region\", re)\n",
    "        print(data_untested.index[(np.where(untested_idx[re]))])\n",
    "else:\n",
    "    y_hat_untested = pd.DataFrame(base_model.predict(X_untested_scaled), index=data_untested.index, columns=['Prediction'])\n",
    "\n",
    "# Applicability domain\n",
    "domain = []\n",
    "for i in range(len(X_untested_scaled)):\n",
    "    flag = 0\n",
    "    for j in range(len(X_untested_scaled.columns)):\n",
    "        if (X_untested_scaled.iloc[1,j]<0) or (X_untested_scaled.iloc[1,j]>1):\n",
    "            flag = 1\n",
    "    if flag == 1:\n",
    "        domain.append(\"unreliable\")\n",
    "    else:\n",
    "        domain.append(\"reliable\")\n",
    "\n",
    "domain = pd.DataFrame(np.array(domain), index=data_untested.index, columns=['Applicability'])\n",
    "\n",
    "final = pd.concat([y_hat_untested, domain], axis=1)\n",
    "\n",
    "print(final)"
   ]
  },
  {
   "cell_type": "code",
   "execution_count": null,
   "metadata": {},
   "outputs": [],
   "source": []
  }
 ],
 "metadata": {
  "kernelspec": {
   "display_name": "Python 3",
   "language": "python",
   "name": "python3"
  },
  "language_info": {
   "codemirror_mode": {
    "name": "ipython",
    "version": 3
   },
   "file_extension": ".py",
   "mimetype": "text/x-python",
   "name": "python",
   "nbconvert_exporter": "python",
   "pygments_lexer": "ipython3",
   "version": "3.8.5"
  }
 },
 "nbformat": 4,
 "nbformat_minor": 4
}
